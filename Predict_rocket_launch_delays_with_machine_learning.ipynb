{
  "nbformat": 4,
  "nbformat_minor": 0,
  "metadata": {
    "colab": {
      "name": "Predict rocket launch delays with machine learning.ipynb",
      "provenance": [],
      "include_colab_link": true
    },
    "kernelspec": {
      "name": "python3",
      "display_name": "Python 3"
    },
    "language_info": {
      "name": "python"
    }
  },
  "cells": [
    {
      "cell_type": "markdown",
      "metadata": {
        "id": "view-in-github",
        "colab_type": "text"
      },
      "source": [
        "<a href=\"https://colab.research.google.com/github/jibitesh2004/jibitesh2004/blob/main/Predict_rocket_launch_delays_with_machine_learning.ipynb\" target=\"_parent\"><img src=\"https://colab.research.google.com/assets/colab-badge.svg\" alt=\"Open In Colab\"/></a>"
      ]
    },
    {
      "cell_type": "markdown",
      "metadata": {
        "id": "47lMvsieitJX"
      },
      "source": [
        "#IMPORT LIBRARIES"
      ]
    },
    {
      "cell_type": "code",
      "metadata": {
        "id": "t4tlswUmidNY"
      },
      "source": [
        "import pandas as pd\n",
        "import numpy as np\n",
        "import requests  # For API calls\n",
        "\n",
        "from sklearn.model_selection import train_test_split\n",
        "from sklearn.preprocessing import StandardScaler, LabelEncoder\n",
        "from sklearn.feature_extraction.text import TfidfVectorizer\n",
        "from sklearn.compose import ColumnTransformer\n",
        "from sklearn.pipeline import Pipeline\n",
        "from sklearn.tree import DecisionTreeRegressor, export_graphviz\n",
        "import pydotplus\n",
        "from IPython.display import display, clear_output, Image\n",
        "\n",
        "import ipywidgets as widgets\n",
        "\n",
        "# For voice output using gTTS\n",
        "!pip install gTTS\n",
        "from gtts import gTTS\n",
        "from IPython.display import Audio\n",
        "\n",
        "# For reproducibility\n",
        "np.random.seed(42)\n"
      ],
      "execution_count": null,
      "outputs": []
    },
    {
      "cell_type": "markdown",
      "metadata": {
        "id": "18IhBr2Ni1Nh"
      },
      "source": [
        "# **Load Historical Excel Data (Past Data)**\n"
      ]
    },
    {
      "cell_type": "code",
      "metadata": {
        "id": "AF_CX6eBihOQ"
      },
      "source": [
        "try:\n",
        "    launch_data = pd.read_excel('Generated.xlsx')\n",
        "    launch_data.columns = [col.strip() for col in launch_data.columns]  # Remove extra spaces\n",
        "    print(\"Excel data loaded successfully.\")\n",
        "except Exception:\n",
        "    print(\"Error loading Excel file. Using synthetic historical data for demo.\")\n",
        "    launch_data = pd.DataFrame({\n",
        "        'Name': ['Rocket A'] * 10,\n",
        "        'Date': pd.date_range(start='2025-01-01', periods=10),\n",
        "        'Time (East Coast)': ['10:00 AM'] * 10,\n",
        "        'Location': ['Cape Canaveral'] * 10,\n",
        "        'Crewed or Uncrewed': np.random.choice(['Crewed', 'Uncrewed'], 10),\n",
        "        'Launched?': np.random.choice(['Y', 'N'], 10),\n",
        "        'Wind Direction': np.random.choice(['N', 'S', 'E', 'W'], 10),\n",
        "        'Condition': np.random.choice(['Fair', 'Cloudy', 'Stormy'], 10)\n",
        "    })\n",
        "\n",
        "# Fill missing values\n",
        "launch_data.fillna({'Launched?': 'N', 'Crewed or Uncrewed': 'Uncrewed',\n",
        "                    'Wind Direction': 'unknown', 'Condition': 'Fair'}, inplace=True)\n",
        "\n",
        "# Synthetic delay times and extra features\n",
        "launch_data['DelayTime'] = np.random.uniform(10, 60, launch_data.shape[0])\n",
        "launch_data['Temperature'] = np.random.uniform(15, 35, launch_data.shape[0])  # °C\n",
        "launch_data['WindSpeed'] = np.random.uniform(0, 50, launch_data.shape[0])       # km/h\n",
        "launch_data['Precipitation'] = np.random.uniform(0, 5, launch_data.shape[0])      # mm\n",
        "launch_data['SensorReading'] = np.random.uniform(0.8, 1.0, launch_data.shape[0])  # Simulated sensor\n",
        "launch_data['CommLog'] = np.random.choice([\n",
        "    \"All systems nominal, ready for launch.\",\n",
        "    \"Minor issues detected in fuel sensors, proceed with caution.\",\n",
        "    \"Crew on standby, monitoring weather.\",\n",
        "    \"Unexpected alert in telemetry data, investigate further.\"\n",
        "], launch_data.shape[0])\n"
      ],
      "execution_count": null,
      "outputs": []
    },
    {
      "cell_type": "markdown",
      "metadata": {
        "id": "qn3OUtUii5As"
      },
      "source": [
        "# **Clean & Process Historical Data**"
      ]
    },
    {
      "cell_type": "code",
      "metadata": {
        "id": "HAV-96XjikUP"
      },
      "source": [
        "# Define target and features\n",
        "y = launch_data['DelayTime']\n",
        "cols_to_drop = ['Name', 'Date', 'Time (East Coast)', 'Location', 'Launched?', 'DelayTime']\n",
        "X = launch_data.drop(columns=cols_to_drop)\n",
        "\n",
        "# Encode categorical features\n",
        "label_encoder = LabelEncoder()\n",
        "for col in ['Crewed or Uncrewed', 'Wind Direction', 'Condition']:\n",
        "    X[col] = label_encoder.fit_transform(X[col])\n",
        "\n",
        "numeric_features = ['Temperature', 'WindSpeed', 'Precipitation', 'SensorReading',\n",
        "                      'Crewed or Uncrewed', 'Wind Direction', 'Condition']\n",
        "text_feature = 'CommLog'\n",
        "\n",
        "# Build pipelines for numeric and text data\n",
        "numeric_pipeline = Pipeline([('scaler', StandardScaler())])\n",
        "text_pipeline = Pipeline([('tfidf', TfidfVectorizer(max_features=50))])\n",
        "preprocessor = ColumnTransformer([\n",
        "    ('num', numeric_pipeline, numeric_features),\n",
        "    ('text', text_pipeline, text_feature)\n",
        "])\n",
        "\n",
        "# Overall model pipeline\n",
        "model_pipeline = Pipeline([\n",
        "    ('preprocessor', preprocessor),\n",
        "    ('regressor', DecisionTreeRegressor(random_state=0, max_depth=5))\n",
        "])\n",
        "\n",
        "# Train the model\n",
        "X_train, X_test, y_train, y_test = train_test_split(X, y, test_size=0.2, random_state=99)\n",
        "model_pipeline.fit(X_train, y_train)\n",
        "r2_score = model_pipeline.score(X_test, y_test)\n",
        "print(f\"Model R² Score on Historical Test Data: {r2_score:.2f}\")\n"
      ],
      "execution_count": null,
      "outputs": []
    },
    {
      "cell_type": "markdown",
      "metadata": {
        "id": "J-DKipi-jk4h"
      },
      "source": [
        "# **Enrich Historical Data with Additional Features**"
      ]
    },
    {
      "cell_type": "code",
      "metadata": {
        "id": "bY0OBTJkjng7"
      },
      "source": [
        "def tree_graph_to_png(tree_model, feature_names):\n",
        "    tree_str = export_graphviz(tree_model,\n",
        "                               feature_names=feature_names,\n",
        "                               filled=True,\n",
        "                               out_file=None)\n",
        "    graph = pydotplus.graph_from_dot_data(tree_str)\n",
        "    return Image(graph.create_png())\n",
        "\n",
        "feature_names = model_pipeline.named_steps['preprocessor'].get_feature_names_out()\n",
        "decision_tree = model_pipeline.named_steps['regressor']\n",
        "tree_image = tree_graph_to_png(decision_tree, feature_names=feature_names)\n",
        "display(tree_image)\n"
      ],
      "execution_count": null,
      "outputs": []
    },
    {
      "cell_type": "markdown",
      "source": [
        "# **Define Features & Target for Training**"
      ],
      "metadata": {
        "id": "98UIuGr76ZVE"
      }
    },
    {
      "cell_type": "code",
      "metadata": {
        "id": "k5slCKkLkNfX"
      },
      "source": [
        "def fetch_live_weather(city=\"Cape Canaveral\"):\n",
        "    \"\"\"\n",
        "    Fetch live weather data using the Open-Meteo API.\n",
        "    Temperature in Celsius.\n",
        "    \"\"\"\n",
        "    latitude = 28.3922\n",
        "    longitude = -80.6077\n",
        "    url = f\"https://api.open-meteo.com/v1/forecast?latitude={latitude}&longitude={longitude}&current_weather=true\"\n",
        "    response = requests.get(url)\n",
        "    if response.status_code == 200:\n",
        "        data = response.json()\n",
        "        current_weather = data.get(\"current_weather\", {})\n",
        "        temperature = current_weather.get(\"temperature\", None)\n",
        "        wind_speed = current_weather.get(\"windspeed\", None)\n",
        "        precipitation = 0  # Not provided by current_weather\n",
        "        return temperature, wind_speed, precipitation\n",
        "    else:\n",
        "        return np.random.uniform(15, 35), np.random.uniform(0, 50), np.random.uniform(0, 5)\n",
        "\n",
        "def simulate_live_space_condition():\n",
        "    conditions = [\"Calm\", \"Moderate\", \"Disturbed\"]\n",
        "    return np.random.choice(conditions)\n",
        "\n",
        "def generate_sensor_alert(sensor_value, threshold=0.9):\n",
        "    alert_message = \"\"\n",
        "    if sensor_value < threshold:\n",
        "        alert_message += \"Alert: Fuel pump sensor reading is below normal. Check required. \"\n",
        "    else:\n",
        "        alert_message += \"Fuel pump sensor operating normally. \"\n",
        "    space_condition = simulate_live_space_condition()\n",
        "    alert_message += f\"Live space condition is {space_condition}.\"\n",
        "    return alert_message\n",
        "\n",
        "def fetch_space_weather(api_key=\"DEMO_KEY\", event_type=\"FLR\"):\n",
        "    \"\"\"\n",
        "    Fetch space weather data from NASA's DONKI API (e.g., solar flares).\n",
        "    Returns a summary string of the latest event.\n",
        "    \"\"\"\n",
        "    base_url = f\"https://api.nasa.gov/DONKI/{event_type}\"\n",
        "    params = {\"api_key\": api_key}\n",
        "    response = requests.get(base_url, params=params)\n",
        "    if response.status_code == 200:\n",
        "        events = response.json()\n",
        "        if events:\n",
        "            event = events[0]\n",
        "            event_summary = f\"{event_type} on {event.get('beginTime', 'Unknown')}\"\n",
        "        else:\n",
        "            event_summary = \"No significant space weather events.\"\n",
        "        return event_summary\n",
        "    else:\n",
        "        return \"Space weather data unavailable.\"\n",
        "\n",
        "# Mappings for categorical features\n",
        "crew_mapping = {'Crewed': 0, 'Uncrewed': 1}\n",
        "wind_mapping = {'N': 0, 'S': 1, 'E': 2, 'W': 3, 'unknown': 4}\n",
        "condition_mapping = {'Fair': 0, 'Cloudy': 1, 'Stormy': 2}\n"
      ],
      "execution_count": null,
      "outputs": []
    },
    {
      "cell_type": "markdown",
      "metadata": {
        "id": "0Y385a_ekdKp"
      },
      "source": [
        "# **Encode Categorical Data for Training**"
      ]
    },
    {
      "cell_type": "code",
      "metadata": {
        "id": "kbqeF_gOkXMi"
      },
      "source": [
        "# Initialize live data for current prediction\n",
        "live_temp, live_wind, live_precip = fetch_live_weather()\n",
        "live_sensor = 0.85  # Simulated sensor reading\n",
        "live_comm = generate_sensor_alert(live_sensor)\n",
        "live_space = fetch_space_weather()  # Space weather data\n",
        "\n",
        "# Prepare sample input (adding 'SpaceWeather' for display only)\n",
        "sample_input = {\n",
        "    'Temperature': live_temp,\n",
        "    'WindSpeed': live_wind,\n",
        "    'Precipitation': live_precip,\n",
        "    'SensorReading': live_sensor,\n",
        "    'Crewed or Uncrewed': crew_mapping['Crewed'],\n",
        "    'Wind Direction': wind_mapping['N'],\n",
        "    'Condition': condition_mapping['Fair'],\n",
        "    'CommLog': live_comm,\n",
        "    'SpaceWeather': live_space\n",
        "}\n",
        "sample_df = pd.DataFrame([sample_input])\n",
        "print(\"Live Sample Input for Prediction:\")\n",
        "display(sample_df)\n",
        "\n",
        "# Predict current delay (model ignores 'SpaceWeather')\n",
        "predicted_delay_minutes = model_pipeline.predict(sample_df.drop(columns=['SpaceWeather']))[0]\n",
        "print(f\"Predicted Delay Time (Right Now): {predicted_delay_minutes:.1f} minutes\")\n",
        "\n",
        "def generate_delay_statement(input_data, delay_minutes):\n",
        "    reasons = []\n",
        "    if input_data['WindSpeed'] > 30:\n",
        "        reasons.append(\"high wind speeds\")\n",
        "    if input_data['Precipitation'] > 2:\n",
        "        reasons.append(\"heavy precipitation\")\n",
        "    if input_data['SensorReading'] < 0.9:\n",
        "        reasons.append(\"suboptimal sensor readings\")\n",
        "    keywords = ['alert', 'check required']\n",
        "    if any(keyword in input_data['CommLog'].lower() for keyword in keywords):\n",
        "        reasons.append(\"live sensor alert indicating potential issues\")\n",
        "    if not reasons:\n",
        "        reasons.append(\"all parameters nominal\")\n",
        "    statement = (f\"The rocket launch is predicted to be delayed by {delay_minutes:.1f} minutes \"\n",
        "                 f\"({delay_minutes*60:.0f} seconds, {delay_minutes/60:.2f} hours) due to \"\n",
        "                 + \", \".join(reasons) + \".\")\n",
        "    return statement\n",
        "\n",
        "current_explanation = generate_delay_statement(sample_input, predicted_delay_minutes)\n",
        "print(\"\\nExplanation:\")\n",
        "print(current_explanation)\n"
      ],
      "execution_count": null,
      "outputs": []
    },
    {
      "cell_type": "markdown",
      "metadata": {
        "id": "1PnGc4apkucV"
      },
      "source": [
        "# **Build a Multimodal Pipeline (Regression)**"
      ]
    },
    {
      "cell_type": "code",
      "metadata": {
        "id": "KWT5p5kTkxpm"
      },
      "source": [
        "# Widgets for Current Prediction (Right Now)\n",
        "temp_label = widgets.Label(value=f\"Temperature (°C): {live_temp:.1f}\")\n",
        "wind_slider = widgets.FloatSlider(min=0, max=50, step=0.5,\n",
        "                                  description='Wind Speed (km/h):', value=live_wind)\n",
        "precip_slider = widgets.FloatSlider(min=0, max=10, step=0.1,\n",
        "                                    description='Precipitation (mm):', value=live_precip)\n",
        "sensor_slider = widgets.FloatSlider(min=0.8, max=1.0, step=0.01,\n",
        "                                    description='Sensor Reading:', value=live_sensor)\n",
        "\n",
        "# Button for fetching new live data (updates current prediction)\n",
        "def fetch_live_data(b):\n",
        "    new_temp, new_wind, new_precip = fetch_live_weather()\n",
        "    temp_label.value = f\"Temperature (°C): {new_temp:.1f}\"\n",
        "    wind_slider.value = new_wind\n",
        "    precip_slider.value = new_precip\n",
        "    sensor_slider.value = np.random.uniform(0.8, 1.0)\n",
        "    current_predict()  # update current prediction\n",
        "\n",
        "fetch_data_button = widgets.Button(description=\"Get Right Now Delay\")\n",
        "fetch_data_button.on_click(fetch_live_data)\n",
        "\n",
        "# Global storage for current prediction data\n",
        "current_explanation = \"\"\n",
        "current_pred = 0.0\n",
        "current_input_df = None\n",
        "voice_output = widgets.Output()\n",
        "message_output = widgets.Output()\n",
        "data_output = widgets.Output()\n",
        "\n",
        "def current_predict(change=None):\n",
        "    global current_explanation, current_pred, current_input_df\n",
        "    auto_comm = generate_sensor_alert(sensor_slider.value)\n",
        "    current_input_df = pd.DataFrame({\n",
        "        'Temperature': [float(temp_label.value.split(\":\")[1].strip())],\n",
        "        'WindSpeed': [wind_slider.value],\n",
        "        'Precipitation': [precip_slider.value],\n",
        "        'SensorReading': [sensor_slider.value],\n",
        "        'Crewed or Uncrewed': [crew_mapping['Crewed']],\n",
        "        'Wind Direction': [wind_mapping['N']],\n",
        "        'Condition': [condition_mapping['Fair']],\n",
        "        'CommLog': [auto_comm]\n",
        "    })\n",
        "    # Fetch latest space weather for display\n",
        "    space_weather_status = fetch_space_weather()\n",
        "    current_input_df[\"SpaceWeather\"] = space_weather_status\n",
        "\n",
        "    current_pred = model_pipeline.predict(current_input_df.drop(columns=['SpaceWeather']))[0]\n",
        "    current_explanation = generate_delay_statement(current_input_df.iloc[0].to_dict(), current_pred)\n",
        "\n",
        "    with voice_output:\n",
        "        clear_output(wait=True)\n",
        "        tts = gTTS(text=current_explanation, lang='en')\n",
        "        tts.save(\"current_explanation.mp3\")\n",
        "        display(Audio(\"current_explanation.mp3\", autoplay=True))\n",
        "\n",
        "def show_message(b):\n",
        "    with message_output:\n",
        "        clear_output(wait=True)\n",
        "        print(\"Prediction:\", f\"{current_pred:.1f} minutes delay \"\n",
        "              f\"({current_pred*60:.0f} seconds, {current_pred/60:.2f} hours)\")\n",
        "        print(\"Explanation:\")\n",
        "        print(current_explanation)\n",
        "\n",
        "def view_data(b):\n",
        "    with data_output:\n",
        "        clear_output(wait=True)\n",
        "        # Decode categorical columns for clarity\n",
        "        temp_df = current_input_df.copy()\n",
        "        temp_df['Crewed or Uncrewed'] = temp_df['Crewed or Uncrewed'].map({0: 'Crewed', 1: 'Uncrewed'})\n",
        "        temp_df['Wind Direction'] = temp_df['Wind Direction'].map({0: 'N', 1: 'S', 2: 'E', 3: 'W', 4: 'unknown'})\n",
        "        temp_df['Condition'] = temp_df['Condition'].map({0: 'Fair', 1: 'Cloudy', 2: 'Stormy'})\n",
        "        structured_cols = ['Temperature', 'WindSpeed', 'Precipitation', 'SensorReading',\n",
        "                             'Crewed or Uncrewed', 'Wind Direction', 'Condition']\n",
        "        unstructured_col = 'CommLog'\n",
        "        space_col = 'SpaceWeather'\n",
        "        print(\"----- Structured Data -----\")\n",
        "        display(temp_df[structured_cols])\n",
        "        print(\"\\n----- Unstructured Data (CommLog) -----\")\n",
        "        display(temp_df[[unstructured_col]])\n",
        "        print(\"\\n----- Space Weather -----\")\n",
        "        display(temp_df[[space_col]])\n",
        "        print(\"\\nPredicted Delay (minutes):\", f\"{current_pred:.1f}\")\n",
        "\n",
        "# Buttons for current predictions\n",
        "get_message_button = widgets.Button(description=\"Get Message\")\n",
        "get_message_button.on_click(show_message)\n",
        "view_data_button = widgets.Button(description=\"View Your Data\")\n",
        "view_data_button.on_click(view_data)\n",
        "\n",
        "# Widgets for Future Prediction\n",
        "future_day_input = widgets.IntText(value=3, description=\"Days Ahead:\")\n",
        "future_button = widgets.Button(description=\"Get Future Delay\")\n",
        "\n",
        "future_output = widgets.Output()\n",
        "\n",
        "def generate_future_sample():\n",
        "    # Simulate a future sample with forecast variability\n",
        "    base_temp, base_wind, base_precip = fetch_live_weather()\n",
        "    future_temp = np.clip(base_temp + np.random.normal(0, 1), 15, 35)\n",
        "    future_wind = np.clip(base_wind + np.random.normal(0, 2), 0, 50)\n",
        "    future_precip = np.clip(base_precip + np.random.normal(0, 0.5), 0, 10)\n",
        "    future_sensor = np.random.uniform(0.8, 1.0)\n",
        "    future_comm = generate_sensor_alert(future_sensor)\n",
        "    future_space = fetch_space_weather()\n",
        "    return {\n",
        "        'Temperature': future_temp,\n",
        "        'WindSpeed': future_wind,\n",
        "        'Precipitation': future_precip,\n",
        "        'SensorReading': future_sensor,\n",
        "        'Crewed or Uncrewed': crew_mapping['Crewed'],\n",
        "        'Wind Direction': wind_mapping['N'],\n",
        "        'Condition': condition_mapping['Fair'],\n",
        "        'CommLog': future_comm,\n",
        "        'SpaceWeather': future_space\n",
        "    }\n",
        "\n",
        "def predict_future_delays(days=3, num_samples=100, delay_threshold=20):\n",
        "    results = []\n",
        "    for day in range(1, days+1):\n",
        "        predictions = []\n",
        "        for _ in range(num_samples):\n",
        "            sample = generate_future_sample()\n",
        "            sample_df = pd.DataFrame([sample])\n",
        "            pred = model_pipeline.predict(sample_df.drop(columns=['SpaceWeather']))[0]\n",
        "            predictions.append(pred)\n",
        "        predictions = np.array(predictions)\n",
        "        mean_delay = predictions.mean()\n",
        "        std_delay = predictions.std()\n",
        "        prob_exceed = np.mean(predictions > delay_threshold) * 100\n",
        "        results.append({\n",
        "            'Day': f\"Day {day}\",\n",
        "            'Mean Delay (min)': round(mean_delay, 2),\n",
        "            'Std Dev (min)': round(std_delay, 2),\n",
        "            f\"Prob(Delay > {delay_threshold} min) (%)\": round(prob_exceed, 2)\n",
        "        })\n",
        "    return pd.DataFrame(results)\n",
        "\n",
        "def get_future_prediction(b):\n",
        "    days = future_day_input.value\n",
        "    future_df = predict_future_delays(days=days, num_samples=100, delay_threshold=20)\n",
        "    with future_output:\n",
        "        clear_output(wait=True)\n",
        "        print(f\"Future Delay Predictions for the Next {days} Day(s):\")\n",
        "        display(future_df)\n",
        "\n",
        "future_button.on_click(get_future_prediction)\n",
        "\n",
        "# Layout the interactive sections\n",
        "print(\"\\n--- Current Delay Prediction ---\")\n",
        "display(fetch_data_button, temp_label, wind_slider, precip_slider, sensor_slider)\n",
        "display(voice_output)\n",
        "display(get_message_button, message_output)\n",
        "display(view_data_button, data_output)\n",
        "\n",
        "print(\"\\n--- Future Delay Prediction ---\")\n",
        "display(future_day_input, future_button, future_output)\n",
        "\n",
        "# Trigger initial predictions\n",
        "current_predict()\n",
        "get_future_prediction(None)\n"
      ],
      "execution_count": null,
      "outputs": []
    },
    {
      "cell_type": "markdown",
      "source": [
        "# **Train the Model**"
      ],
      "metadata": {
        "id": "S0GSF3RU73Bb"
      }
    },
    {
      "cell_type": "code",
      "metadata": {
        "id": "Qijf81zFk2V2"
      },
      "source": [
        "X_train, X_test, y_train, y_test = train_test_split(X, y, test_size=0.2, random_state=99)\n",
        "model_pipeline.fit(X_train, y_train)\n",
        "r2_score = model_pipeline.score(X_test, y_test)\n",
        "print(f\"\\nModel R² Score on Historical Test Data: {r2_score:.2f}\")\n",
        "\n"
      ],
      "execution_count": null,
      "outputs": []
    },
    {
      "cell_type": "markdown",
      "metadata": {
        "id": "5UGc7SCyrXov"
      },
      "source": [
        "# **Visualize the Decision Tree**"
      ]
    },
    {
      "cell_type": "code",
      "metadata": {
        "id": "D2CHcQgFrZTO"
      },
      "source": [
        "def tree_graph_to_png(tree_model, feature_names):\n",
        "    tree_str = export_graphviz(tree_model,\n",
        "                               feature_names=feature_names,\n",
        "                               filled=True,\n",
        "                               out_file=None)\n",
        "    graph = pydotplus.graph_from_dot_data(tree_str)\n",
        "    return Image(graph.create_png())\n",
        "\n",
        "feature_names = model_pipeline.named_steps['preprocessor'].get_feature_names_out()\n",
        "decision_tree = model_pipeline.named_steps['regressor']\n",
        "tree_image = tree_graph_to_png(decision_tree, feature_names=feature_names)\n",
        "display(tree_image)"
      ],
      "execution_count": null,
      "outputs": []
    },
    {
      "cell_type": "markdown",
      "source": [
        "# **Live Data Functions Using Open-Meteo API & Simulated Space Condition**"
      ],
      "metadata": {
        "id": "E_YBHbPA8gUl"
      }
    },
    {
      "cell_type": "code",
      "metadata": {
        "id": "u4Fxtw58rlZm"
      },
      "source": [
        "def fetch_live_weather(city=\"Cape Canaveral\"):\n",
        "    \"\"\"\n",
        "    Fetch live weather data using the Open-Meteo API.\n",
        "    For Cape Canaveral, we use its latitude and longitude.\n",
        "    Open-Meteo is free and requires no API key.\n",
        "    \"\"\"\n",
        "    latitude = 28.3922\n",
        "    longitude = -80.6077\n",
        "    url = f\"https://api.open-meteo.com/v1/forecast?latitude={latitude}&longitude={longitude}&current_weather=true\"\n",
        "    response = requests.get(url)\n",
        "    if response.status_code == 200:\n",
        "        data = response.json()\n",
        "        current_weather = data.get(\"current_weather\", {})\n",
        "        temperature = current_weather.get(\"temperature\", None)  # in Celsius\n",
        "        if temperature is not None:\n",
        "            temperature = temperature * 9/5 + 32  # Convert to Fahrenheit\n",
        "        wind_speed = current_weather.get(\"windspeed\", None)  # in km/h\n",
        "        if wind_speed is not None:\n",
        "            wind_speed = wind_speed / 1.609  # Convert to mph\n",
        "        precipitation = 0  # Not provided by current_weather\n",
        "        return temperature, wind_speed, precipitation\n",
        "    else:\n",
        "        return np.random.uniform(60, 90), np.random.uniform(0, 50), np.random.uniform(0, 5)\n",
        "\n",
        "def simulate_live_space_condition():\n",
        "    \"\"\"\n",
        "    Simulate live space condition based on an internal algorithm.\n",
        "    For this demo, we'll simply randomly choose a condition.\n",
        "    In a real system, this could come from fast internal sensors or anomaly detection.\n",
        "    \"\"\"\n",
        "    conditions = [\"Calm\", \"Moderate\", \"Disturbed\"]\n",
        "    return np.random.choice(conditions)\n",
        "\n",
        "def generate_sensor_alert(sensor_value, threshold=0.9):\n",
        "    \"\"\"\n",
        "    Auto-generate an alert based on the sensor reading and live space condition.\n",
        "    If sensor_value is below threshold, generate an immediate alert.\n",
        "    Additionally, append the simulated live space condition.\n",
        "    \"\"\"\n",
        "    alert_message = \"\"\n",
        "    if sensor_value < threshold:\n",
        "        alert_message += \"Alert: Fuel pump sensor reading is below normal. Check required. \"\n",
        "    else:\n",
        "        alert_message += \"Fuel pump sensor operating normally. \"\n",
        "\n",
        "    space_condition = simulate_live_space_condition()\n",
        "    alert_message += f\"Live space condition is {space_condition}.\"\n",
        "    return alert_message\n"
      ],
      "execution_count": null,
      "outputs": []
    },
    {
      "cell_type": "markdown",
      "metadata": {
        "id": "k9Gak8bzruyh"
      },
      "source": [
        "Can you predict whether a launch is likely to happen given specific weather conditions?"
      ]
    },
    {
      "cell_type": "markdown",
      "metadata": {
        "id": "BKZkg_dhr0mJ"
      },
      "source": [
        "# **Sample Live Input Prediction with Live Data, Explanation, & Voice Output**"
      ]
    },
    {
      "cell_type": "code",
      "metadata": {
        "id": "gSxL_yWOrvx4"
      },
      "source": [
        "\n",
        "# Manual mappings for categorical features.\n",
        "crew_mapping = {'Crewed': 0, 'Uncrewed': 1}\n",
        "wind_mapping = {'N': 0, 'S': 1, 'E': 2, 'W': 3, 'unknown': 4}\n",
        "condition_mapping = {'Fair': 0, 'Cloudy': 1, 'Stormy': 2}\n",
        "\n",
        "# Fetch live weather data using Open-Meteo API.\n",
        "live_temp, live_wind, live_precip = fetch_live_weather()\n",
        "# Simulate a live sensor reading (set below threshold to trigger alert).\n",
        "live_sensor = 0.85  # below threshold 0.9 triggers alert.\n",
        "# Auto-generate live alert message using sensor reading and simulated space condition.\n",
        "live_comm = generate_sensor_alert(live_sensor)\n",
        "\n",
        "# Prepare a sample live input.\n",
        "sample_input = {\n",
        "    'Temperature': live_temp,\n",
        "    'WindSpeed': live_wind,\n",
        "    'Precipitation': live_precip,\n",
        "    'SensorReading': live_sensor,\n",
        "    'Crewed or Uncrewed': crew_mapping['Crewed'],\n",
        "    'Wind Direction': wind_mapping['N'],\n",
        "    'Condition': condition_mapping['Fair'],\n",
        "    'CommLog': live_comm\n",
        "}\n",
        "sample_df = pd.DataFrame([sample_input])\n",
        "print(\"\\nLive Sample Input for Prediction:\")\n",
        "print(sample_df)\n",
        "\n",
        "# Predict delay time (in minutes)\n",
        "predicted_delay_minutes = model_pipeline.predict(sample_df)[0]\n",
        "predicted_delay_seconds = predicted_delay_minutes * 60\n",
        "predicted_delay_hours = predicted_delay_minutes / 60\n",
        "print(f\"\\nPredicted Delay Time: {predicted_delay_minutes:.1f} minutes \"\n",
        "      f\"({predicted_delay_seconds:.0f} seconds, {predicted_delay_hours:.2f} hours)\")\n",
        "\n",
        "def generate_delay_statement(input_data, delay_minutes):\n",
        "    reasons = []\n",
        "    if input_data['WindSpeed'] > 30:\n",
        "        reasons.append(\"high wind speeds\")\n",
        "    if input_data['Precipitation'] > 2:\n",
        "        reasons.append(\"heavy precipitation\")\n",
        "    if input_data['SensorReading'] < 0.9:\n",
        "        reasons.append(\"suboptimal sensor readings\")\n",
        "    keywords = ['alert', 'check required']\n",
        "    if any(keyword in input_data['CommLog'].lower() for keyword in keywords):\n",
        "        reasons.append(\"live sensor alert indicating potential issues\")\n",
        "    if not reasons:\n",
        "        reasons.append(\"all parameters nominal\")\n",
        "    statement = (f\"The rocket launch is predicted to be delayed by {delay_minutes:.1f} minutes \"\n",
        "                 f\"({delay_minutes*60:.0f} seconds, {delay_minutes/60:.2f} hours) due to \"\n",
        "                 + \", \".join(reasons) + \".\")\n",
        "    return statement\n",
        "\n",
        "explanation = generate_delay_statement(sample_input, predicted_delay_minutes)\n",
        "print(\"\\nExplanation:\")\n",
        "print(explanation)\n"
      ],
      "execution_count": null,
      "outputs": []
    },
    {
      "cell_type": "markdown",
      "metadata": {
        "id": "RatVencFsG6q"
      },
      "source": [
        "# **Interactive Demo with Live Data Fetching (No Manual Unstructured Input)**"
      ]
    },
    {
      "cell_type": "code",
      "metadata": {
        "id": "GhZ0M-qlsLQE"
      },
      "source": [
        "print(\"\\nInteractive Demo:\")\n",
        "\n",
        "# Create interactive sliders for live structured data.\n",
        "temp_slider = widgets.FloatSlider(min=50, max=100, step=0.5, description='Temperature:', value=live_temp)\n",
        "wind_slider = widgets.FloatSlider(min=0, max=50, step=0.5, description='Wind Speed:', value=live_wind)\n",
        "precip_slider = widgets.FloatSlider(min=0, max=10, step=0.1, description='Precipitation:', value=live_precip)\n",
        "sensor_slider = widgets.FloatSlider(min=0.8, max=1.0, step=0.01, description='Sensor Reading:', value=live_sensor)\n",
        "\n",
        "# Button to fetch live weather data using Open-Meteo API.\n",
        "def fetch_live_data(b):\n",
        "    new_temp, new_wind, new_precip = fetch_live_weather()\n",
        "    temp_slider.value = new_temp\n",
        "    wind_slider.value = new_wind\n",
        "    precip_slider.value = new_precip\n",
        "    sensor_slider.value = np.random.uniform(0.8, 1.0)  # Simulate a new sensor reading.\n",
        "\n",
        "fetch_live_button = widgets.Button(description=\"Fetch Live Weather Data\")\n",
        "fetch_live_button.on_click(fetch_live_data)\n",
        "\n",
        "# Output widget for interactive prediction.\n",
        "interactive_output = widgets.Output()\n",
        "\n",
        "def interactive_predict(change=None):\n",
        "    auto_comm = generate_sensor_alert(sensor_slider.value)\n",
        "    input_df = pd.DataFrame({\n",
        "        'Temperature': [temp_slider.value],\n",
        "        'WindSpeed': [wind_slider.value],\n",
        "        'Precipitation': [precip_slider.value],\n",
        "        'SensorReading': [sensor_slider.value],\n",
        "        'Crewed or Uncrewed': [crew_mapping['Crewed']],\n",
        "        'Wind Direction': [wind_mapping['N']],\n",
        "        'Condition': [condition_mapping['Fair']],\n",
        "        'CommLog': [auto_comm]\n",
        "    })\n",
        "    pred = model_pipeline.predict(input_df)[0]\n",
        "    explanation_text = generate_delay_statement(input_df.iloc[0].to_dict(), pred)\n",
        "    with interactive_output:\n",
        "        clear_output(wait=True)\n",
        "        print(f\"Interactive Prediction: {pred:.1f} minutes delay \"\n",
        "              f\"({pred*60:.0f} seconds, {pred/60:.2f} hours)\")\n",
        "        print(\"Explanation:\", explanation_text)\n",
        "        tts_interactive = gTTS(text=explanation_text, lang='en')\n",
        "        tts_interactive.save(\"interactive_explanation.mp3\")\n",
        "        display(Audio(\"interactive_explanation.mp3\", autoplay=True))\n",
        "\n",
        "temp_slider.observe(interactive_predict, names='value')\n",
        "wind_slider.observe(interactive_predict, names='value')\n",
        "precip_slider.observe(interactive_predict, names='value')\n",
        "sensor_slider.observe(interactive_predict, names='value')\n",
        "\n",
        "display(fetch_live_button, temp_slider, wind_slider, precip_slider, sensor_slider, interactive_output)\n",
        "interactive_predict()  # Initial prediction"
      ],
      "execution_count": null,
      "outputs": []
    }
  ]
}